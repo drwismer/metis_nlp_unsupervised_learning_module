{
 "cells": [
  {
   "cell_type": "code",
   "execution_count": 45,
   "metadata": {},
   "outputs": [],
   "source": [
    "from jesse import research\n",
    "import data.glassnode_retrieve\n",
    "import data.db_interaction\n",
    "from data.indicators import *\n",
    "import data.time_series_functions\n",
    "from datetime import datetime, timedelta"
   ]
  },
  {
   "cell_type": "code",
   "execution_count": 53,
   "metadata": {},
   "outputs": [],
   "source": [
    "# Get latest candle date from database\n",
    "DI = data.db_interaction.DatabaseInteraction()\n",
    "timestamp = DI.query_latest('candle', 'timestamp')/1000"
   ]
  },
  {
   "cell_type": "code",
   "execution_count": 54,
   "metadata": {},
   "outputs": [],
   "source": [
    "# Get candle data\n",
    "exchange ='Coinbase'\n",
    "coin = 'BTC-USD'\n",
    "period = '1D'\n",
    "start = '2015-08-15'\n",
    "end = datetime.strftime(datetime.fromtimestamp(timestamp), '%Y-%m-%d')\n",
    "\n",
    "research.init()\n",
    "candles = research.get_candles(exchange, coin, period, start, end)"
   ]
  },
  {
   "cell_type": "code",
   "execution_count": 48,
   "metadata": {},
   "outputs": [],
   "source": [
    "# Get glassnode data\n",
    "start_date = '2013-01-01'\n",
    "\n",
    "GN = data.glassnode_retrieve.GlassnodeRetrieve()\n",
    "glassnode_df = GN.get_glassnode_data(start_date)"
   ]
  },
  {
   "cell_type": "code",
   "execution_count": null,
   "metadata": {},
   "outputs": [],
   "source": [
    "# Create pandas dataframes\n",
    "cloud_df = candles_to_ichimoku(candles)\n",
    "volume_df = candles_to_volume(candles)\n",
    "macd_df = candles_to_macd(candles)\n",
    "rsi_df = candles_to_rsi(candles)\n",
    "bbands_df = candles_to_bbands(candles)"
   ]
  },
  {
   "cell_type": "code",
   "execution_count": 50,
   "metadata": {},
   "outputs": [],
   "source": [
    "# Load dataframes to postgres db\n",
    "DI.df_to_db('glassnode', glassnode_df)\n",
    "DI.df_to_db('ichimoku', cloud_df)\n",
    "DI.df_to_db('volume', volume_df)\n",
    "DI.df_to_db('macd', macd_df)\n",
    "DI.df_to_db('rsi', rsi_df)\n",
    "DI.df_to_db('bbands', bbands_df)"
   ]
  }
 ],
 "metadata": {
  "kernelspec": {
   "display_name": "Python 3",
   "language": "python",
   "name": "python3"
  },
  "language_info": {
   "codemirror_mode": {
    "name": "ipython",
    "version": 3
   },
   "file_extension": ".py",
   "mimetype": "text/x-python",
   "name": "python",
   "nbconvert_exporter": "python",
   "pygments_lexer": "ipython3",
   "version": "3.8.5"
  }
 },
 "nbformat": 4,
 "nbformat_minor": 4
}
