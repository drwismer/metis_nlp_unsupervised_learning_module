{
 "cells": [
  {
   "cell_type": "code",
   "execution_count": 8,
   "metadata": {},
   "outputs": [],
   "source": [
    "import pandas as pd\n",
    "from datetime import datetime, timedelta\n",
    "import data.db_interaction\n",
    "from data.reddit_retrieve import *\n",
    "from data.gtrends_retrieve import *"
   ]
  },
  {
   "cell_type": "code",
   "execution_count": 9,
   "metadata": {},
   "outputs": [],
   "source": [
    "DI = data.db_interaction.DatabaseInteraction()"
   ]
  },
  {
   "cell_type": "code",
   "execution_count": 12,
   "metadata": {},
   "outputs": [],
   "source": [
    "# Query latest date in posts table, pass to scraping function to get post and comment data\n",
    "latest_date = DI.query_latest('posts', 'date')\n",
    "\n",
    "posts_df, comments_df = scrape_bitcoin_reddit(latest_date)"
   ]
  },
  {
   "cell_type": "code",
   "execution_count": 10,
   "metadata": {},
   "outputs": [],
   "source": [
    "today = datetime.datetime.now()"
   ]
  },
  {
   "cell_type": "code",
   "execution_count": null,
   "metadata": {},
   "outputs": [],
   "source": [
    "# Get Google Trends data for a given keyword and date range\n",
    "today = datetime.datetime.now()\n",
    "\n",
    "gtrends_df = get_gtrends(keyword='bitcoin',\n",
    "                         start_year=2015,\n",
    "                         start_month=1,\n",
    "                         end_year=today.year,\n",
    "                         end_month=today.month\n",
    "                        )"
   ]
  },
  {
   "cell_type": "code",
   "execution_count": 13,
   "metadata": {},
   "outputs": [],
   "source": [
    "# Save Reddit data to postgres db\n",
    "DI.df_to_db('posts', posts_df, pd_if_exists='append')\n",
    "DI.df_to_db('comments', comments_df, pd_if_exists='append')"
   ]
  },
  {
   "cell_type": "code",
   "execution_count": 14,
   "metadata": {},
   "outputs": [],
   "source": [
    "# Save Reddit and Google data to postgres db\n",
    "DI.df_to_db('gtrends', gtrends_df, pd_if_exists='replace')"
   ]
  },
  {
   "cell_type": "code",
   "execution_count": null,
   "metadata": {},
   "outputs": [],
   "source": []
  }
 ],
 "metadata": {
  "kernelspec": {
   "display_name": "Python 3",
   "language": "python",
   "name": "python3"
  },
  "language_info": {
   "codemirror_mode": {
    "name": "ipython",
    "version": 3
   },
   "file_extension": ".py",
   "mimetype": "text/x-python",
   "name": "python",
   "nbconvert_exporter": "python",
   "pygments_lexer": "ipython3",
   "version": "3.8.5"
  }
 },
 "nbformat": 4,
 "nbformat_minor": 4
}
